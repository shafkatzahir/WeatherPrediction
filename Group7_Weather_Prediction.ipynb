{
  "nbformat": 4,
  "nbformat_minor": 0,
  "metadata": {
    "colab": {
      "name": "Group7_Weather-Prediction.ipynb",
      "provenance": [],
      "collapsed_sections": [
        "CA1ik4pzQyC6",
        "fC_zM8gQULx6",
        "qlpcxDPZVgWK",
        "dEPyLXNeXsf7",
        "hGP18dXmZRK1"
      ]
    },
    "kernelspec": {
      "name": "python3",
      "display_name": "Python 3"
    },
    "language_info": {
      "name": "python"
    }
  },
  "cells": [
    {
      "cell_type": "markdown",
      "source": [
        "# **Importing Libraries**\n",
        "---\n",
        "\n"
      ],
      "metadata": {
        "id": "CA1ik4pzQyC6"
      }
    },
    {
      "cell_type": "code",
      "source": [
        "!pip install tensorflow\n",
        "import math\n",
        "import datetime\n",
        "import numpy as np\n",
        "import pandas as pd\n",
        "import seaborn as sns\n",
        "from keras import callbacks\n",
        "from sklearn import metrics\n",
        "import matplotlib.pyplot as plt\n",
        "from sklearn import preprocessing\n",
        "from keras.models import Sequential\n",
        "from tensorflow.python import keras\n",
        "from tensorflow.keras import regularizers\n",
        "from tensorflow.keras.optimizers import Adam \n",
        "from sklearn.preprocessing import LabelEncoder\n",
        "from sklearn.preprocessing import StandardScaler\n",
        "from tensorflow.keras.utils import to_categorical\n",
        "from sklearn.metrics import classification_report\n",
        "from sklearn.linear_model import LogisticRegression\n",
        "from sklearn.model_selection import train_test_split\n",
        "from keras.layers import Dense, BatchNormalization, Dropout, LSTM\n",
        "from sklearn.metrics import precision_score, recall_score, confusion_matrix, classification_report, accuracy_score, f1_score\n",
        "\n",
        "np.random.seed(0)"
      ],
      "metadata": {
        "id": "rjpFi_P8Q2k4",
        "colab": {
          "base_uri": "https://localhost:8080/"
        },
        "outputId": "9ad1bf01-b11f-4b48-fb01-bcb0d1c2f5de"
      },
      "execution_count": 38,
      "outputs": [
        {
          "output_type": "stream",
          "name": "stdout",
          "text": [
            "Requirement already satisfied: tensorflow in /usr/local/lib/python3.7/dist-packages (2.8.0)\n",
            "Requirement already satisfied: absl-py>=0.4.0 in /usr/local/lib/python3.7/dist-packages (from tensorflow) (1.0.0)\n",
            "Requirement already satisfied: grpcio<2.0,>=1.24.3 in /usr/local/lib/python3.7/dist-packages (from tensorflow) (1.44.0)\n",
            "Requirement already satisfied: flatbuffers>=1.12 in /usr/local/lib/python3.7/dist-packages (from tensorflow) (2.0)\n",
            "Requirement already satisfied: keras<2.9,>=2.8.0rc0 in /usr/local/lib/python3.7/dist-packages (from tensorflow) (2.8.0)\n",
            "Requirement already satisfied: setuptools in /usr/local/lib/python3.7/dist-packages (from tensorflow) (57.4.0)\n",
            "Requirement already satisfied: libclang>=9.0.1 in /usr/local/lib/python3.7/dist-packages (from tensorflow) (14.0.1)\n",
            "Requirement already satisfied: astunparse>=1.6.0 in /usr/local/lib/python3.7/dist-packages (from tensorflow) (1.6.3)\n",
            "Requirement already satisfied: h5py>=2.9.0 in /usr/local/lib/python3.7/dist-packages (from tensorflow) (3.1.0)\n",
            "Requirement already satisfied: six>=1.12.0 in /usr/local/lib/python3.7/dist-packages (from tensorflow) (1.15.0)\n",
            "Requirement already satisfied: numpy>=1.20 in /usr/local/lib/python3.7/dist-packages (from tensorflow) (1.21.6)\n",
            "Requirement already satisfied: keras-preprocessing>=1.1.1 in /usr/local/lib/python3.7/dist-packages (from tensorflow) (1.1.2)\n",
            "Requirement already satisfied: google-pasta>=0.1.1 in /usr/local/lib/python3.7/dist-packages (from tensorflow) (0.2.0)\n",
            "Requirement already satisfied: gast>=0.2.1 in /usr/local/lib/python3.7/dist-packages (from tensorflow) (0.5.3)\n",
            "Requirement already satisfied: tensorflow-io-gcs-filesystem>=0.23.1 in /usr/local/lib/python3.7/dist-packages (from tensorflow) (0.25.0)\n",
            "Requirement already satisfied: typing-extensions>=3.6.6 in /usr/local/lib/python3.7/dist-packages (from tensorflow) (4.2.0)\n",
            "Requirement already satisfied: tf-estimator-nightly==2.8.0.dev2021122109 in /usr/local/lib/python3.7/dist-packages (from tensorflow) (2.8.0.dev2021122109)\n",
            "Requirement already satisfied: termcolor>=1.1.0 in /usr/local/lib/python3.7/dist-packages (from tensorflow) (1.1.0)\n",
            "Requirement already satisfied: opt-einsum>=2.3.2 in /usr/local/lib/python3.7/dist-packages (from tensorflow) (3.3.0)\n",
            "Requirement already satisfied: wrapt>=1.11.0 in /usr/local/lib/python3.7/dist-packages (from tensorflow) (1.14.0)\n",
            "Requirement already satisfied: protobuf>=3.9.2 in /usr/local/lib/python3.7/dist-packages (from tensorflow) (3.17.3)\n",
            "Requirement already satisfied: tensorboard<2.9,>=2.8 in /usr/local/lib/python3.7/dist-packages (from tensorflow) (2.8.0)\n",
            "Requirement already satisfied: wheel<1.0,>=0.23.0 in /usr/local/lib/python3.7/dist-packages (from astunparse>=1.6.0->tensorflow) (0.37.1)\n",
            "Requirement already satisfied: cached-property in /usr/local/lib/python3.7/dist-packages (from h5py>=2.9.0->tensorflow) (1.5.2)\n",
            "Requirement already satisfied: requests<3,>=2.21.0 in /usr/local/lib/python3.7/dist-packages (from tensorboard<2.9,>=2.8->tensorflow) (2.23.0)\n",
            "Requirement already satisfied: werkzeug>=0.11.15 in /usr/local/lib/python3.7/dist-packages (from tensorboard<2.9,>=2.8->tensorflow) (1.0.1)\n",
            "Requirement already satisfied: markdown>=2.6.8 in /usr/local/lib/python3.7/dist-packages (from tensorboard<2.9,>=2.8->tensorflow) (3.3.6)\n",
            "Requirement already satisfied: google-auth<3,>=1.6.3 in /usr/local/lib/python3.7/dist-packages (from tensorboard<2.9,>=2.8->tensorflow) (1.35.0)\n",
            "Requirement already satisfied: tensorboard-data-server<0.7.0,>=0.6.0 in /usr/local/lib/python3.7/dist-packages (from tensorboard<2.9,>=2.8->tensorflow) (0.6.1)\n",
            "Requirement already satisfied: tensorboard-plugin-wit>=1.6.0 in /usr/local/lib/python3.7/dist-packages (from tensorboard<2.9,>=2.8->tensorflow) (1.8.1)\n",
            "Requirement already satisfied: google-auth-oauthlib<0.5,>=0.4.1 in /usr/local/lib/python3.7/dist-packages (from tensorboard<2.9,>=2.8->tensorflow) (0.4.6)\n",
            "Requirement already satisfied: cachetools<5.0,>=2.0.0 in /usr/local/lib/python3.7/dist-packages (from google-auth<3,>=1.6.3->tensorboard<2.9,>=2.8->tensorflow) (4.2.4)\n",
            "Requirement already satisfied: pyasn1-modules>=0.2.1 in /usr/local/lib/python3.7/dist-packages (from google-auth<3,>=1.6.3->tensorboard<2.9,>=2.8->tensorflow) (0.2.8)\n",
            "Requirement already satisfied: rsa<5,>=3.1.4 in /usr/local/lib/python3.7/dist-packages (from google-auth<3,>=1.6.3->tensorboard<2.9,>=2.8->tensorflow) (4.8)\n",
            "Requirement already satisfied: requests-oauthlib>=0.7.0 in /usr/local/lib/python3.7/dist-packages (from google-auth-oauthlib<0.5,>=0.4.1->tensorboard<2.9,>=2.8->tensorflow) (1.3.1)\n",
            "Requirement already satisfied: importlib-metadata>=4.4 in /usr/local/lib/python3.7/dist-packages (from markdown>=2.6.8->tensorboard<2.9,>=2.8->tensorflow) (4.11.3)\n",
            "Requirement already satisfied: zipp>=0.5 in /usr/local/lib/python3.7/dist-packages (from importlib-metadata>=4.4->markdown>=2.6.8->tensorboard<2.9,>=2.8->tensorflow) (3.8.0)\n",
            "Requirement already satisfied: pyasn1<0.5.0,>=0.4.6 in /usr/local/lib/python3.7/dist-packages (from pyasn1-modules>=0.2.1->google-auth<3,>=1.6.3->tensorboard<2.9,>=2.8->tensorflow) (0.4.8)\n",
            "Requirement already satisfied: urllib3!=1.25.0,!=1.25.1,<1.26,>=1.21.1 in /usr/local/lib/python3.7/dist-packages (from requests<3,>=2.21.0->tensorboard<2.9,>=2.8->tensorflow) (1.24.3)\n",
            "Requirement already satisfied: idna<3,>=2.5 in /usr/local/lib/python3.7/dist-packages (from requests<3,>=2.21.0->tensorboard<2.9,>=2.8->tensorflow) (2.10)\n",
            "Requirement already satisfied: chardet<4,>=3.0.2 in /usr/local/lib/python3.7/dist-packages (from requests<3,>=2.21.0->tensorboard<2.9,>=2.8->tensorflow) (3.0.4)\n",
            "Requirement already satisfied: certifi>=2017.4.17 in /usr/local/lib/python3.7/dist-packages (from requests<3,>=2.21.0->tensorboard<2.9,>=2.8->tensorflow) (2021.10.8)\n",
            "Requirement already satisfied: oauthlib>=3.0.0 in /usr/local/lib/python3.7/dist-packages (from requests-oauthlib>=0.7.0->google-auth-oauthlib<0.5,>=0.4.1->tensorboard<2.9,>=2.8->tensorflow) (3.2.0)\n"
          ]
        }
      ]
    },
    {
      "cell_type": "markdown",
      "source": [
        "# **Loading Data**\n",
        "\n",
        "---\n",
        "\n",
        "\n"
      ],
      "metadata": {
        "id": "fC_zM8gQULx6"
      }
    },
    {
      "cell_type": "code",
      "source": [
        "wthr =  pd.read_csv(\"/content/sample_data/weatherAUS.csv\")\n",
        "wthr.head()"
      ],
      "metadata": {
        "id": "RKrpRdiaURqY",
        "colab": {
          "base_uri": "https://localhost:8080/",
          "height": 386
        },
        "outputId": "bcf40382-40a3-4319-9a51-7641f8847956"
      },
      "execution_count": 39,
      "outputs": [
        {
          "output_type": "execute_result",
          "data": {
            "text/plain": [
              "         Date Location  MinTemp  MaxTemp  Rainfall  Evaporation  Sunshine  \\\n",
              "0  2008-12-01   Albury     13.4     22.9       0.6          NaN       NaN   \n",
              "1  2008-12-02   Albury      7.4     25.1       0.0          NaN       NaN   \n",
              "2  2008-12-03   Albury     12.9     25.7       0.0          NaN       NaN   \n",
              "3  2008-12-04   Albury      9.2     28.0       0.0          NaN       NaN   \n",
              "4  2008-12-05   Albury     17.5     32.3       1.0          NaN       NaN   \n",
              "\n",
              "  WindGustDir  WindGustSpeed WindDir9am  ... Humidity9am  Humidity3pm  \\\n",
              "0           W           44.0          W  ...        71.0         22.0   \n",
              "1         WNW           44.0        NNW  ...        44.0         25.0   \n",
              "2         WSW           46.0          W  ...        38.0         30.0   \n",
              "3          NE           24.0         SE  ...        45.0         16.0   \n",
              "4           W           41.0        ENE  ...        82.0         33.0   \n",
              "\n",
              "   Pressure9am  Pressure3pm  Cloud9am  Cloud3pm  Temp9am  Temp3pm  RainToday  \\\n",
              "0       1007.7       1007.1       8.0       NaN     16.9     21.8         No   \n",
              "1       1010.6       1007.8       NaN       NaN     17.2     24.3         No   \n",
              "2       1007.6       1008.7       NaN       2.0     21.0     23.2         No   \n",
              "3       1017.6       1012.8       NaN       NaN     18.1     26.5         No   \n",
              "4       1010.8       1006.0       7.0       8.0     17.8     29.7         No   \n",
              "\n",
              "   RainTomorrow  \n",
              "0            No  \n",
              "1            No  \n",
              "2            No  \n",
              "3            No  \n",
              "4            No  \n",
              "\n",
              "[5 rows x 23 columns]"
            ],
            "text/html": [
              "\n",
              "  <div id=\"df-8cb68071-8251-4e1d-aa4f-2ec563cbc22c\">\n",
              "    <div class=\"colab-df-container\">\n",
              "      <div>\n",
              "<style scoped>\n",
              "    .dataframe tbody tr th:only-of-type {\n",
              "        vertical-align: middle;\n",
              "    }\n",
              "\n",
              "    .dataframe tbody tr th {\n",
              "        vertical-align: top;\n",
              "    }\n",
              "\n",
              "    .dataframe thead th {\n",
              "        text-align: right;\n",
              "    }\n",
              "</style>\n",
              "<table border=\"1\" class=\"dataframe\">\n",
              "  <thead>\n",
              "    <tr style=\"text-align: right;\">\n",
              "      <th></th>\n",
              "      <th>Date</th>\n",
              "      <th>Location</th>\n",
              "      <th>MinTemp</th>\n",
              "      <th>MaxTemp</th>\n",
              "      <th>Rainfall</th>\n",
              "      <th>Evaporation</th>\n",
              "      <th>Sunshine</th>\n",
              "      <th>WindGustDir</th>\n",
              "      <th>WindGustSpeed</th>\n",
              "      <th>WindDir9am</th>\n",
              "      <th>...</th>\n",
              "      <th>Humidity9am</th>\n",
              "      <th>Humidity3pm</th>\n",
              "      <th>Pressure9am</th>\n",
              "      <th>Pressure3pm</th>\n",
              "      <th>Cloud9am</th>\n",
              "      <th>Cloud3pm</th>\n",
              "      <th>Temp9am</th>\n",
              "      <th>Temp3pm</th>\n",
              "      <th>RainToday</th>\n",
              "      <th>RainTomorrow</th>\n",
              "    </tr>\n",
              "  </thead>\n",
              "  <tbody>\n",
              "    <tr>\n",
              "      <th>0</th>\n",
              "      <td>2008-12-01</td>\n",
              "      <td>Albury</td>\n",
              "      <td>13.4</td>\n",
              "      <td>22.9</td>\n",
              "      <td>0.6</td>\n",
              "      <td>NaN</td>\n",
              "      <td>NaN</td>\n",
              "      <td>W</td>\n",
              "      <td>44.0</td>\n",
              "      <td>W</td>\n",
              "      <td>...</td>\n",
              "      <td>71.0</td>\n",
              "      <td>22.0</td>\n",
              "      <td>1007.7</td>\n",
              "      <td>1007.1</td>\n",
              "      <td>8.0</td>\n",
              "      <td>NaN</td>\n",
              "      <td>16.9</td>\n",
              "      <td>21.8</td>\n",
              "      <td>No</td>\n",
              "      <td>No</td>\n",
              "    </tr>\n",
              "    <tr>\n",
              "      <th>1</th>\n",
              "      <td>2008-12-02</td>\n",
              "      <td>Albury</td>\n",
              "      <td>7.4</td>\n",
              "      <td>25.1</td>\n",
              "      <td>0.0</td>\n",
              "      <td>NaN</td>\n",
              "      <td>NaN</td>\n",
              "      <td>WNW</td>\n",
              "      <td>44.0</td>\n",
              "      <td>NNW</td>\n",
              "      <td>...</td>\n",
              "      <td>44.0</td>\n",
              "      <td>25.0</td>\n",
              "      <td>1010.6</td>\n",
              "      <td>1007.8</td>\n",
              "      <td>NaN</td>\n",
              "      <td>NaN</td>\n",
              "      <td>17.2</td>\n",
              "      <td>24.3</td>\n",
              "      <td>No</td>\n",
              "      <td>No</td>\n",
              "    </tr>\n",
              "    <tr>\n",
              "      <th>2</th>\n",
              "      <td>2008-12-03</td>\n",
              "      <td>Albury</td>\n",
              "      <td>12.9</td>\n",
              "      <td>25.7</td>\n",
              "      <td>0.0</td>\n",
              "      <td>NaN</td>\n",
              "      <td>NaN</td>\n",
              "      <td>WSW</td>\n",
              "      <td>46.0</td>\n",
              "      <td>W</td>\n",
              "      <td>...</td>\n",
              "      <td>38.0</td>\n",
              "      <td>30.0</td>\n",
              "      <td>1007.6</td>\n",
              "      <td>1008.7</td>\n",
              "      <td>NaN</td>\n",
              "      <td>2.0</td>\n",
              "      <td>21.0</td>\n",
              "      <td>23.2</td>\n",
              "      <td>No</td>\n",
              "      <td>No</td>\n",
              "    </tr>\n",
              "    <tr>\n",
              "      <th>3</th>\n",
              "      <td>2008-12-04</td>\n",
              "      <td>Albury</td>\n",
              "      <td>9.2</td>\n",
              "      <td>28.0</td>\n",
              "      <td>0.0</td>\n",
              "      <td>NaN</td>\n",
              "      <td>NaN</td>\n",
              "      <td>NE</td>\n",
              "      <td>24.0</td>\n",
              "      <td>SE</td>\n",
              "      <td>...</td>\n",
              "      <td>45.0</td>\n",
              "      <td>16.0</td>\n",
              "      <td>1017.6</td>\n",
              "      <td>1012.8</td>\n",
              "      <td>NaN</td>\n",
              "      <td>NaN</td>\n",
              "      <td>18.1</td>\n",
              "      <td>26.5</td>\n",
              "      <td>No</td>\n",
              "      <td>No</td>\n",
              "    </tr>\n",
              "    <tr>\n",
              "      <th>4</th>\n",
              "      <td>2008-12-05</td>\n",
              "      <td>Albury</td>\n",
              "      <td>17.5</td>\n",
              "      <td>32.3</td>\n",
              "      <td>1.0</td>\n",
              "      <td>NaN</td>\n",
              "      <td>NaN</td>\n",
              "      <td>W</td>\n",
              "      <td>41.0</td>\n",
              "      <td>ENE</td>\n",
              "      <td>...</td>\n",
              "      <td>82.0</td>\n",
              "      <td>33.0</td>\n",
              "      <td>1010.8</td>\n",
              "      <td>1006.0</td>\n",
              "      <td>7.0</td>\n",
              "      <td>8.0</td>\n",
              "      <td>17.8</td>\n",
              "      <td>29.7</td>\n",
              "      <td>No</td>\n",
              "      <td>No</td>\n",
              "    </tr>\n",
              "  </tbody>\n",
              "</table>\n",
              "<p>5 rows × 23 columns</p>\n",
              "</div>\n",
              "      <button class=\"colab-df-convert\" onclick=\"convertToInteractive('df-8cb68071-8251-4e1d-aa4f-2ec563cbc22c')\"\n",
              "              title=\"Convert this dataframe to an interactive table.\"\n",
              "              style=\"display:none;\">\n",
              "        \n",
              "  <svg xmlns=\"http://www.w3.org/2000/svg\" height=\"24px\"viewBox=\"0 0 24 24\"\n",
              "       width=\"24px\">\n",
              "    <path d=\"M0 0h24v24H0V0z\" fill=\"none\"/>\n",
              "    <path d=\"M18.56 5.44l.94 2.06.94-2.06 2.06-.94-2.06-.94-.94-2.06-.94 2.06-2.06.94zm-11 1L8.5 8.5l.94-2.06 2.06-.94-2.06-.94L8.5 2.5l-.94 2.06-2.06.94zm10 10l.94 2.06.94-2.06 2.06-.94-2.06-.94-.94-2.06-.94 2.06-2.06.94z\"/><path d=\"M17.41 7.96l-1.37-1.37c-.4-.4-.92-.59-1.43-.59-.52 0-1.04.2-1.43.59L10.3 9.45l-7.72 7.72c-.78.78-.78 2.05 0 2.83L4 21.41c.39.39.9.59 1.41.59.51 0 1.02-.2 1.41-.59l7.78-7.78 2.81-2.81c.8-.78.8-2.07 0-2.86zM5.41 20L4 18.59l7.72-7.72 1.47 1.35L5.41 20z\"/>\n",
              "  </svg>\n",
              "      </button>\n",
              "      \n",
              "  <style>\n",
              "    .colab-df-container {\n",
              "      display:flex;\n",
              "      flex-wrap:wrap;\n",
              "      gap: 12px;\n",
              "    }\n",
              "\n",
              "    .colab-df-convert {\n",
              "      background-color: #E8F0FE;\n",
              "      border: none;\n",
              "      border-radius: 50%;\n",
              "      cursor: pointer;\n",
              "      display: none;\n",
              "      fill: #1967D2;\n",
              "      height: 32px;\n",
              "      padding: 0 0 0 0;\n",
              "      width: 32px;\n",
              "    }\n",
              "\n",
              "    .colab-df-convert:hover {\n",
              "      background-color: #E2EBFA;\n",
              "      box-shadow: 0px 1px 2px rgba(60, 64, 67, 0.3), 0px 1px 3px 1px rgba(60, 64, 67, 0.15);\n",
              "      fill: #174EA6;\n",
              "    }\n",
              "\n",
              "    [theme=dark] .colab-df-convert {\n",
              "      background-color: #3B4455;\n",
              "      fill: #D2E3FC;\n",
              "    }\n",
              "\n",
              "    [theme=dark] .colab-df-convert:hover {\n",
              "      background-color: #434B5C;\n",
              "      box-shadow: 0px 1px 3px 1px rgba(0, 0, 0, 0.15);\n",
              "      filter: drop-shadow(0px 1px 2px rgba(0, 0, 0, 0.3));\n",
              "      fill: #FFFFFF;\n",
              "    }\n",
              "  </style>\n",
              "\n",
              "      <script>\n",
              "        const buttonEl =\n",
              "          document.querySelector('#df-8cb68071-8251-4e1d-aa4f-2ec563cbc22c button.colab-df-convert');\n",
              "        buttonEl.style.display =\n",
              "          google.colab.kernel.accessAllowed ? 'block' : 'none';\n",
              "\n",
              "        async function convertToInteractive(key) {\n",
              "          const element = document.querySelector('#df-8cb68071-8251-4e1d-aa4f-2ec563cbc22c');\n",
              "          const dataTable =\n",
              "            await google.colab.kernel.invokeFunction('convertToInteractive',\n",
              "                                                     [key], {});\n",
              "          if (!dataTable) return;\n",
              "\n",
              "          const docLinkHtml = 'Like what you see? Visit the ' +\n",
              "            '<a target=\"_blank\" href=https://colab.research.google.com/notebooks/data_table.ipynb>data table notebook</a>'\n",
              "            + ' to learn more about interactive tables.';\n",
              "          element.innerHTML = '';\n",
              "          dataTable['output_type'] = 'display_data';\n",
              "          await google.colab.output.renderOutput(dataTable, element);\n",
              "          const docLink = document.createElement('div');\n",
              "          docLink.innerHTML = docLinkHtml;\n",
              "          element.appendChild(docLink);\n",
              "        }\n",
              "      </script>\n",
              "    </div>\n",
              "  </div>\n",
              "  "
            ]
          },
          "metadata": {},
          "execution_count": 39
        }
      ]
    },
    {
      "cell_type": "markdown",
      "source": [
        "# **Data Cleaning and Visualization**\n",
        "---\n",
        "The dataset contains around 10 years of day to day climate perceptions from various areas across Australia. Perceptions were drawn from various weather conditions stations.\n",
        "\n",
        "In this project, we tend to utilize this information to anticipate whether it will rain the following day.\n"
      ],
      "metadata": {
        "id": "qlpcxDPZVgWK"
      }
    },
    {
      "cell_type": "code",
      "source": [
        "#Correlation matrix\n",
        "corr_matrix = wthr.corr()\n",
        "cmap = sns.diverging_palette(250, 15, s=75, l=40,n=9, center=\"dark\")\n",
        "plt.subplots(figsize=(18,18))\n",
        "sns.heatmap(corr_matrix,cmap= cmap,annot=True, square=True)"
      ],
      "metadata": {
        "id": "7o0HTT8dzpQp",
        "colab": {
          "base_uri": "https://localhost:8080/",
          "height": 1000
        },
        "outputId": "bdfde907-3e61-4def-b4f1-3fd1f20e9c1e"
      },
      "execution_count": 40,
      "outputs": [
        {
          "output_type": "execute_result",
          "data": {
            "text/plain": [
              "<matplotlib.axes._subplots.AxesSubplot at 0x7fb784ca93d0>"
            ]
          },
          "metadata": {},
          "execution_count": 40
        },
        {
          "output_type": "display_data",
          "data": {
            "text/plain": [
              "<Figure size 1296x1296 with 2 Axes>"
            ],
            "image/png": "[encoded data removed]"
          },
          "metadata": {
            "needs_background": "light"
          }
        }
      ]
    },
    {
      "cell_type": "markdown",
      "source": [
        "Our goal is to fabricate a Artificial Neural Network(ANN). We will encode dates suitably as, date and time are intrinsically repetitive. To allow the ANN to  realize that an element is repeating, we will split it into occasional subsections. To be specific, years, months and days. Presently for every subsection, we are going make two new highlights, determining a sine change and cosine change of the subsection include."
      ],
      "metadata": {
        "id": "nlqNN45v0msC"
      }
    },
    {
      "cell_type": "code",
      "source": [
        "#Parsing datetime and exploring the length of date objects\n",
        "len = wthr[\"Date\"].str.len()\n",
        "len.value_counts()"
      ],
      "metadata": {
        "id": "HzYXIw9sVkN2",
        "colab": {
          "base_uri": "https://localhost:8080/"
        },
        "outputId": "64bb1d5e-4ab6-414e-c3dd-96f6eb575841"
      },
      "execution_count": 41,
      "outputs": [
        {
          "output_type": "execute_result",
          "data": {
            "text/plain": [
              "10    76113\n",
              "Name: Date, dtype: int64"
            ]
          },
          "metadata": {},
          "execution_count": 41
        }
      ]
    },
    {
      "cell_type": "code",
      "source": [
        "#There is no error in dates so parsing values into datetime\n",
        "wthr['Date']= pd.to_datetime(wthr[\"Date\"])\n",
        "\n",
        "#Creating a column of year\n",
        "wthr['year'] = wthr.Date.dt.year\n",
        "\n",
        "# function to encode datetime into cyclic parameters. \n",
        "\n",
        "def encode(wthr, col, max_val):\n",
        "    wthr[col + '_sin'] = np.sin(2 * np.pi * wthr[col]/max_val)\n",
        "    wthr[col + '_cos'] = np.cos(2 * np.pi * wthr[col]/max_val)\n",
        "    return wthr\n",
        "\n",
        "wthr['month'] = wthr.Date.dt.month\n",
        "wthr = encode(wthr, 'month', 12)\n",
        "\n",
        "wthr['day'] = wthr.Date.dt.day\n",
        "wthr = encode(wthr, 'day', 31)\n",
        "\n",
        "wthr.head()"
      ],
      "metadata": {
        "id": "EbfVQ3JKWMxr",
        "colab": {
          "base_uri": "https://localhost:8080/",
          "height": 386
        },
        "outputId": "2cff902e-3e2b-413d-9489-12d44dc106cd"
      },
      "execution_count": 42,
      "outputs": [
        {
          "output_type": "execute_result",
          "data": {
            "text/plain": [
              "        Date Location  MinTemp  MaxTemp  Rainfall  Evaporation  Sunshine  \\\n",
              "0 2008-12-01   Albury     13.4     22.9       0.6          NaN       NaN   \n",
              "1 2008-12-02   Albury      7.4     25.1       0.0          NaN       NaN   \n",
              "2 2008-12-03   Albury     12.9     25.7       0.0          NaN       NaN   \n",
              "3 2008-12-04   Albury      9.2     28.0       0.0          NaN       NaN   \n",
              "4 2008-12-05   Albury     17.5     32.3       1.0          NaN       NaN   \n",
              "\n",
              "  WindGustDir  WindGustSpeed WindDir9am  ... Temp3pm  RainToday  RainTomorrow  \\\n",
              "0           W           44.0          W  ...    21.8         No            No   \n",
              "1         WNW           44.0        NNW  ...    24.3         No            No   \n",
              "2         WSW           46.0          W  ...    23.2         No            No   \n",
              "3          NE           24.0         SE  ...    26.5         No            No   \n",
              "4           W           41.0        ENE  ...    29.7         No            No   \n",
              "\n",
              "   year  month     month_sin  month_cos  day   day_sin   day_cos  \n",
              "0  2008     12 -2.449294e-16        1.0    1  0.201299  0.979530  \n",
              "1  2008     12 -2.449294e-16        1.0    2  0.394356  0.918958  \n",
              "2  2008     12 -2.449294e-16        1.0    3  0.571268  0.820763  \n",
              "3  2008     12 -2.449294e-16        1.0    4  0.724793  0.688967  \n",
              "4  2008     12 -2.449294e-16        1.0    5  0.848644  0.528964  \n",
              "\n",
              "[5 rows x 30 columns]"
            ],
            "text/html": [
              "\n",
              "  <div id=\"df-5dbe3415-8603-47ea-838a-d44e719a3560\">\n",
              "    <div class=\"colab-df-container\">\n",
              "      <div>\n",
              "<style scoped>\n",
              "    .dataframe tbody tr th:only-of-type {\n",
              "        vertical-align: middle;\n",
              "    }\n",
              "\n",
              "    .dataframe tbody tr th {\n",
              "        vertical-align: top;\n",
              "    }\n",
              "\n",
              "    .dataframe thead th {\n",
              "        text-align: right;\n",
              "    }\n",
              "</style>\n",
              "<table border=\"1\" class=\"dataframe\">\n",
              "  <thead>\n",
              "    <tr style=\"text-align: right;\">\n",
              "      <th></th>\n",
              "      <th>Date</th>\n",
              "      <th>Location</th>\n",
              "      <th>MinTemp</th>\n",
              "      <th>MaxTemp</th>\n",
              "      <th>Rainfall</th>\n",
              "      <th>Evaporation</th>\n",
              "      <th>Sunshine</th>\n",
              "      <th>WindGustDir</th>\n",
              "      <th>WindGustSpeed</th>\n",
              "      <th>WindDir9am</th>\n",
              "      <th>...</th>\n",
              "      <th>Temp3pm</th>\n",
              "      <th>RainToday</th>\n",
              "      <th>RainTomorrow</th>\n",
              "      <th>year</th>\n",
              "      <th>month</th>\n",
              "      <th>month_sin</th>\n",
              "      <th>month_cos</th>\n",
              "      <th>day</th>\n",
              "      <th>day_sin</th>\n",
              "      <th>day_cos</th>\n",
              "    </tr>\n",
              "  </thead>\n",
              "  <tbody>\n",
              "    <tr>\n",
              "      <th>0</th>\n",
              "      <td>2008-12-01</td>\n",
              "      <td>Albury</td>\n",
              "      <td>13.4</td>\n",
              "      <td>22.9</td>\n",
              "      <td>0.6</td>\n",
              "      <td>NaN</td>\n",
              "      <td>NaN</td>\n",
              "      <td>W</td>\n",
              "      <td>44.0</td>\n",
              "      <td>W</td>\n",
              "      <td>...</td>\n",
              "      <td>21.8</td>\n",
              "      <td>No</td>\n",
              "      <td>No</td>\n",
              "      <td>2008</td>\n",
              "      <td>12</td>\n",
              "      <td>-2.449294e-16</td>\n",
              "      <td>1.0</td>\n",
              "      <td>1</td>\n",
              "      <td>0.201299</td>\n",
              "      <td>0.979530</td>\n",
              "    </tr>\n",
              "    <tr>\n",
              "      <th>1</th>\n",
              "      <td>2008-12-02</td>\n",
              "      <td>Albury</td>\n",
              "      <td>7.4</td>\n",
              "      <td>25.1</td>\n",
              "      <td>0.0</td>\n",
              "      <td>NaN</td>\n",
              "      <td>NaN</td>\n",
              "      <td>WNW</td>\n",
              "      <td>44.0</td>\n",
              "      <td>NNW</td>\n",
              "      <td>...</td>\n",
              "      <td>24.3</td>\n",
              "      <td>No</td>\n",
              "      <td>No</td>\n",
              "      <td>2008</td>\n",
              "      <td>12</td>\n",
              "      <td>-2.449294e-16</td>\n",
              "      <td>1.0</td>\n",
              "      <td>2</td>\n",
              "      <td>0.394356</td>\n",
              "      <td>0.918958</td>\n",
              "    </tr>\n",
              "    <tr>\n",
              "      <th>2</th>\n",
              "      <td>2008-12-03</td>\n",
              "      <td>Albury</td>\n",
              "      <td>12.9</td>\n",
              "      <td>25.7</td>\n",
              "      <td>0.0</td>\n",
              "      <td>NaN</td>\n",
              "      <td>NaN</td>\n",
              "      <td>WSW</td>\n",
              "      <td>46.0</td>\n",
              "      <td>W</td>\n",
              "      <td>...</td>\n",
              "      <td>23.2</td>\n",
              "      <td>No</td>\n",
              "      <td>No</td>\n",
              "      <td>2008</td>\n",
              "      <td>12</td>\n",
              "      <td>-2.449294e-16</td>\n",
              "      <td>1.0</td>\n",
              "      <td>3</td>\n",
              "      <td>0.571268</td>\n",
              "      <td>0.820763</td>\n",
              "    </tr>\n",
              "    <tr>\n",
              "      <th>3</th>\n",
              "      <td>2008-12-04</td>\n",
              "      <td>Albury</td>\n",
              "      <td>9.2</td>\n",
              "      <td>28.0</td>\n",
              "      <td>0.0</td>\n",
              "      <td>NaN</td>\n",
              "      <td>NaN</td>\n",
              "      <td>NE</td>\n",
              "      <td>24.0</td>\n",
              "      <td>SE</td>\n",
              "      <td>...</td>\n",
              "      <td>26.5</td>\n",
              "      <td>No</td>\n",
              "      <td>No</td>\n",
              "      <td>2008</td>\n",
              "      <td>12</td>\n",
              "      <td>-2.449294e-16</td>\n",
              "      <td>1.0</td>\n",
              "      <td>4</td>\n",
              "      <td>0.724793</td>\n",
              "      <td>0.688967</td>\n",
              "    </tr>\n",
              "    <tr>\n",
              "      <th>4</th>\n",
              "      <td>2008-12-05</td>\n",
              "      <td>Albury</td>\n",
              "      <td>17.5</td>\n",
              "      <td>32.3</td>\n",
              "      <td>1.0</td>\n",
              "      <td>NaN</td>\n",
              "      <td>NaN</td>\n",
              "      <td>W</td>\n",
              "      <td>41.0</td>\n",
              "      <td>ENE</td>\n",
              "      <td>...</td>\n",
              "      <td>29.7</td>\n",
              "      <td>No</td>\n",
              "      <td>No</td>\n",
              "      <td>2008</td>\n",
              "      <td>12</td>\n",
              "      <td>-2.449294e-16</td>\n",
              "      <td>1.0</td>\n",
              "      <td>5</td>\n",
              "      <td>0.848644</td>\n",
              "      <td>0.528964</td>\n",
              "    </tr>\n",
              "  </tbody>\n",
              "</table>\n",
              "<p>5 rows × 30 columns</p>\n",
              "</div>\n",
              "      <button class=\"colab-df-convert\" onclick=\"convertToInteractive('df-5dbe3415-8603-47ea-838a-d44e719a3560')\"\n",
              "              title=\"Convert this dataframe to an interactive table.\"\n",
              "              style=\"display:none;\">\n",
              "        \n",
              "  <svg xmlns=\"http://www.w3.org/2000/svg\" height=\"24px\"viewBox=\"0 0 24 24\"\n",
              "       width=\"24px\">\n",
              "    <path d=\"M0 0h24v24H0V0z\" fill=\"none\"/>\n",
              "    <path d=\"M18.56 5.44l.94 2.06.94-2.06 2.06-.94-2.06-.94-.94-2.06-.94 2.06-2.06.94zm-11 1L8.5 8.5l.94-2.06 2.06-.94-2.06-.94L8.5 2.5l-.94 2.06-2.06.94zm10 10l.94 2.06.94-2.06 2.06-.94-2.06-.94-.94-2.06-.94 2.06-2.06.94z\"/><path d=\"M17.41 7.96l-1.37-1.37c-.4-.4-.92-.59-1.43-.59-.52 0-1.04.2-1.43.59L10.3 9.45l-7.72 7.72c-.78.78-.78 2.05 0 2.83L4 21.41c.39.39.9.59 1.41.59.51 0 1.02-.2 1.41-.59l7.78-7.78 2.81-2.81c.8-.78.8-2.07 0-2.86zM5.41 20L4 18.59l7.72-7.72 1.47 1.35L5.41 20z\"/>\n",
              "  </svg>\n",
              "      </button>\n",
              "      \n",
              "  <style>\n",
              "    .colab-df-container {\n",
              "      display:flex;\n",
              "      flex-wrap:wrap;\n",
              "      gap: 12px;\n",
              "    }\n",
              "\n",
              "    .colab-df-convert {\n",
              "      background-color: #E8F0FE;\n",
              "      border: none;\n",
              "      border-radius: 50%;\n",
              "      cursor: pointer;\n",
              "      display: none;\n",
              "      fill: #1967D2;\n",
              "      height: 32px;\n",
              "      padding: 0 0 0 0;\n",
              "      width: 32px;\n",
              "    }\n",
              "\n",
              "    .colab-df-convert:hover {\n",
              "      background-color: #E2EBFA;\n",
              "      box-shadow: 0px 1px 2px rgba(60, 64, 67, 0.3), 0px 1px 3px 1px rgba(60, 64, 67, 0.15);\n",
              "      fill: #174EA6;\n",
              "    }\n",
              "\n",
              "    [theme=dark] .colab-df-convert {\n",
              "      background-color: #3B4455;\n",
              "      fill: #D2E3FC;\n",
              "    }\n",
              "\n",
              "    [theme=dark] .colab-df-convert:hover {\n",
              "      background-color: #434B5C;\n",
              "      box-shadow: 0px 1px 3px 1px rgba(0, 0, 0, 0.15);\n",
              "      filter: drop-shadow(0px 1px 2px rgba(0, 0, 0, 0.3));\n",
              "      fill: #FFFFFF;\n",
              "    }\n",
              "  </style>\n",
              "\n",
              "      <script>\n",
              "        const buttonEl =\n",
              "          document.querySelector('#df-5dbe3415-8603-47ea-838a-d44e719a3560 button.colab-df-convert');\n",
              "        buttonEl.style.display =\n",
              "          google.colab.kernel.accessAllowed ? 'block' : 'none';\n",
              "\n",
              "        async function convertToInteractive(key) {\n",
              "          const element = document.querySelector('#df-5dbe3415-8603-47ea-838a-d44e719a3560');\n",
              "          const dataTable =\n",
              "            await google.colab.kernel.invokeFunction('convertToInteractive',\n",
              "                                                     [key], {});\n",
              "          if (!dataTable) return;\n",
              "\n",
              "          const docLinkHtml = 'Like what you see? Visit the ' +\n",
              "            '<a target=\"_blank\" href=https://colab.research.google.com/notebooks/data_table.ipynb>data table notebook</a>'\n",
              "            + ' to learn more about interactive tables.';\n",
              "          element.innerHTML = '';\n",
              "          dataTable['output_type'] = 'display_data';\n",
              "          await google.colab.output.renderOutput(dataTable, element);\n",
              "          const docLink = document.createElement('div');\n",
              "          docLink.innerHTML = docLinkHtml;\n",
              "          element.appendChild(docLink);\n",
              "        }\n",
              "      </script>\n",
              "    </div>\n",
              "  </div>\n",
              "  "
            ]
          },
          "metadata": {},
          "execution_count": 42
        }
      ]
    },
    {
      "cell_type": "code",
      "source": [
        "cyclic_month = sns.scatterplot(x=\"month_sin\",y=\"month_cos\",data= wthr, color=\"#fae934\")\n",
        "cyclic_month.set_title(\"Cyclic Encoding of Month\")\n",
        "cyclic_month.set_ylabel(\"Cosine Encoded Months\")\n",
        "cyclic_month.set_xlabel(\"Sine Encoded Months\")"
      ],
      "metadata": {
        "id": "3vmQ_zSU1cuV",
        "colab": {
          "base_uri": "https://localhost:8080/",
          "height": 312
        },
        "outputId": "0f75d530-0a75-4f78-83ed-bea95bf61e13"
      },
      "execution_count": 43,
      "outputs": [
        {
          "output_type": "execute_result",
          "data": {
            "text/plain": [
              "Text(0.5, 0, 'Sine Encoded Months')"
            ]
          },
          "metadata": {},
          "execution_count": 43
        },
        {
          "output_type": "display_data",
          "data": {
            "text/plain": [
              "<Figure size 432x288 with 1 Axes>"
            ],
            "image/png": "[encoded data removed]"
          },
          "metadata": {
            "needs_background": "light"
          }
        }
      ]
    },
    {
      "cell_type": "code",
      "source": [
        "# Getting list of categorical variables\n",
        "s = (wthr.dtypes == \"object\")\n",
        "object_cols = list(s[s].index)\n",
        "\n",
        "print(\"Categorical variables:\")\n",
        "print(object_cols)"
      ],
      "metadata": {
        "id": "8DUiMjY7WvpJ",
        "colab": {
          "base_uri": "https://localhost:8080/"
        },
        "outputId": "f9512ab6-bea8-4a19-af4d-e30b94f3d15b"
      },
      "execution_count": 44,
      "outputs": [
        {
          "output_type": "stream",
          "name": "stdout",
          "text": [
            "Categorical variables:\n",
            "['Location', 'WindGustDir', 'WindDir9am', 'WindDir3pm', 'RainToday', 'RainTomorrow']\n"
          ]
        }
      ]
    },
    {
      "cell_type": "markdown",
      "source": [
        "Categorical Variables\n",
        "*   Filling missing values with mode of the column value\n",
        "\n",
        "\n"
      ],
      "metadata": {
        "id": "CJSx0_9m2FI9"
      }
    },
    {
      "cell_type": "code",
      "source": [
        "# Missing values in categorical variables\n",
        "for i in object_cols:\n",
        "    print(i, wthr[i].isnull().sum())"
      ],
      "metadata": {
        "id": "i0M-68LtW640",
        "colab": {
          "base_uri": "https://localhost:8080/"
        },
        "outputId": "d5b8dbcb-03f1-4c79-a1d3-d217d91f2187"
      },
      "execution_count": 45,
      "outputs": [
        {
          "output_type": "stream",
          "name": "stdout",
          "text": [
            "Location 0\n",
            "WindGustDir 6130\n",
            "WindDir9am 6916\n",
            "WindDir3pm 2805\n",
            "RainToday 2230\n",
            "RainTomorrow 2229\n"
          ]
        }
      ]
    },
    {
      "cell_type": "code",
      "source": [
        "# Filling missing values with mode of the column in value\n",
        "for i in object_cols:\n",
        "    wthr[i].fillna(wthr[i].mode()[0], inplace=True)"
      ],
      "metadata": {
        "id": "7P-lLt7yXBf7"
      },
      "execution_count": 46,
      "outputs": []
    },
    {
      "cell_type": "markdown",
      "source": [
        "Numerical Variables\n",
        "*   Filling missing values with median of the column value\n",
        "\n",
        "\n"
      ],
      "metadata": {
        "id": "Fqoj2YNU2oNd"
      }
    },
    {
      "cell_type": "code",
      "source": [
        "# Get list of neumeric variables\n",
        "str_num = (wthr.dtypes == \"float64\")\n",
        "num_cols = list(str_num[str_num].index)\n",
        "\n",
        "print(\"Neumeric variables:\")\n",
        "print(num_cols)"
      ],
      "metadata": {
        "id": "mR9HYppqXG2F",
        "colab": {
          "base_uri": "https://localhost:8080/"
        },
        "outputId": "377706e7-b4b0-4b8d-d2cb-e0423d262a33"
      },
      "execution_count": 47,
      "outputs": [
        {
          "output_type": "stream",
          "name": "stdout",
          "text": [
            "Neumeric variables:\n",
            "['MinTemp', 'MaxTemp', 'Rainfall', 'Evaporation', 'Sunshine', 'WindGustSpeed', 'WindSpeed9am', 'WindSpeed3pm', 'Humidity9am', 'Humidity3pm', 'Pressure9am', 'Pressure3pm', 'Cloud9am', 'Cloud3pm', 'Temp9am', 'Temp3pm', 'month_sin', 'month_cos', 'day_sin', 'day_cos']\n"
          ]
        }
      ]
    },
    {
      "cell_type": "code",
      "source": [
        "# Missing values in numeric variables\n",
        "for i in num_cols:\n",
        "    print(i, wthr[i].isnull().sum())"
      ],
      "metadata": {
        "id": "FqMloD0mXMqv",
        "colab": {
          "base_uri": "https://localhost:8080/"
        },
        "outputId": "84b53d0d-ffbd-487a-8c7a-80da912df933"
      },
      "execution_count": 48,
      "outputs": [
        {
          "output_type": "stream",
          "name": "stdout",
          "text": [
            "MinTemp 1112\n",
            "MaxTemp 938\n",
            "Rainfall 2229\n",
            "Evaporation 38833\n",
            "Sunshine 45649\n",
            "WindGustSpeed 6122\n",
            "WindSpeed9am 1381\n",
            "WindSpeed3pm 1995\n",
            "Humidity9am 1821\n",
            "Humidity3pm 2249\n",
            "Pressure9am 10590\n",
            "Pressure3pm 10537\n",
            "Cloud9am 30077\n",
            "Cloud3pm 31035\n",
            "Temp9am 1481\n",
            "Temp3pm 1963\n",
            "month_sin 0\n",
            "month_cos 0\n",
            "day_sin 0\n",
            "day_cos 0\n"
          ]
        }
      ]
    },
    {
      "cell_type": "code",
      "source": [
        "# Filling missing values with median of the column in value\n",
        "for i in num_cols:\n",
        "    wthr[i].fillna(wthr[i].median(), inplace=True)\n",
        "    \n",
        "wthr.info()"
      ],
      "metadata": {
        "id": "Tpr9SvMTXUGb",
        "colab": {
          "base_uri": "https://localhost:8080/"
        },
        "outputId": "d7515caa-667d-4eb3-c118-bd050b0227af"
      },
      "execution_count": 49,
      "outputs": [
        {
          "output_type": "stream",
          "name": "stdout",
          "text": [
            "<class 'pandas.core.frame.DataFrame'>\n",
            "RangeIndex: 76113 entries, 0 to 76112\n",
            "Data columns (total 30 columns):\n",
            " #   Column         Non-Null Count  Dtype         \n",
            "---  ------         --------------  -----         \n",
            " 0   Date           76113 non-null  datetime64[ns]\n",
            " 1   Location       76113 non-null  object        \n",
            " 2   MinTemp        76113 non-null  float64       \n",
            " 3   MaxTemp        76113 non-null  float64       \n",
            " 4   Rainfall       76113 non-null  float64       \n",
            " 5   Evaporation    76113 non-null  float64       \n",
            " 6   Sunshine       76113 non-null  float64       \n",
            " 7   WindGustDir    76113 non-null  object        \n",
            " 8   WindGustSpeed  76113 non-null  float64       \n",
            " 9   WindDir9am     76113 non-null  object        \n",
            " 10  WindDir3pm     76113 non-null  object        \n",
            " 11  WindSpeed9am   76113 non-null  float64       \n",
            " 12  WindSpeed3pm   76113 non-null  float64       \n",
            " 13  Humidity9am    76113 non-null  float64       \n",
            " 14  Humidity3pm    76113 non-null  float64       \n",
            " 15  Pressure9am    76113 non-null  float64       \n",
            " 16  Pressure3pm    76113 non-null  float64       \n",
            " 17  Cloud9am       76113 non-null  float64       \n",
            " 18  Cloud3pm       76113 non-null  float64       \n",
            " 19  Temp9am        76113 non-null  float64       \n",
            " 20  Temp3pm        76113 non-null  float64       \n",
            " 21  RainToday      76113 non-null  object        \n",
            " 22  RainTomorrow   76113 non-null  object        \n",
            " 23  year           76113 non-null  int64         \n",
            " 24  month          76113 non-null  int64         \n",
            " 25  month_sin      76113 non-null  float64       \n",
            " 26  month_cos      76113 non-null  float64       \n",
            " 27  day            76113 non-null  int64         \n",
            " 28  day_sin        76113 non-null  float64       \n",
            " 29  day_cos        76113 non-null  float64       \n",
            "dtypes: datetime64[ns](1), float64(20), int64(3), object(6)\n",
            "memory usage: 17.4+ MB\n"
          ]
        }
      ]
    },
    {
      "cell_type": "markdown",
      "source": [
        "# **Data Preprocessing**\n",
        "---\n",
        "\n"
      ],
      "metadata": {
        "id": "dEPyLXNeXsf7"
      }
    },
    {
      "cell_type": "markdown",
      "source": [
        "Label encoding the catagorical varable"
      ],
      "metadata": {
        "id": "PyD5cxB33VFt"
      }
    },
    {
      "cell_type": "code",
      "source": [
        "label_encoder = LabelEncoder()\n",
        "\n",
        "for i in object_cols:\n",
        "    wthr[i] = label_encoder.fit_transform(wthr[i])\n",
        "    \n",
        "#wthr.head()"
      ],
      "metadata": {
        "id": "oJOdq0JuXwkn"
      },
      "execution_count": 50,
      "outputs": []
    },
    {
      "cell_type": "code",
      "source": [
        "# Prepairing attributes of scale data\n",
        "\n",
        "feature_col = wthr.drop(['RainTomorrow', 'Date','day', 'month'], axis=1) # dropping tget and extra columns\n",
        "\n",
        "tget = wthr['RainTomorrow']\n",
        "\n",
        "#Set up a standard scaler for the features\n",
        "col_names = list(feature_col.columns)\n",
        "s_scaler = preprocessing.StandardScaler()\n",
        "feature_col = s_scaler.fit_transform(feature_col)\n",
        "feature_col = pd.DataFrame(feature_col, columns=col_names) \n",
        "\n",
        "#feature_col.describe().T"
      ],
      "metadata": {
        "id": "aSNAkcMuYTj7"
      },
      "execution_count": 51,
      "outputs": []
    },
    {
      "cell_type": "code",
      "source": [
        "#Detecting outliers\n",
        "colours = [\"#f7234d\", \"#cf30f2\", \"#38e9f2\", \"#45f5bd\", \"#7cff4d\"]\n",
        "plt.figure(figsize=(20,10))\n",
        "sns.boxenplot(data = feature_col,palette = colours)\n",
        "plt.xticks(rotation=90)\n",
        "plt.show()"
      ],
      "metadata": {
        "id": "T9BYLANyYncZ",
        "colab": {
          "base_uri": "https://localhost:8080/",
          "height": 661
        },
        "outputId": "d01bda63-a754-4fde-a536-7b0e590ecb25"
      },
      "execution_count": 52,
      "outputs": [
        {
          "output_type": "display_data",
          "data": {
            "text/plain": [
              "<Figure size 1440x720 with 1 Axes>"
            ],
            "image/png": "[encoded data removed]"
          },
          "metadata": {
            "needs_background": "light"
          }
        }
      ]
    },
    {
      "cell_type": "code",
      "source": [
        "#full data for \n",
        "feature_col[\"RainTomorrow\"] = tget\n",
        "\n",
        "#Dropping with outlier\n",
        "\n",
        "feature_col = feature_col[(feature_col[\"MinTemp\"]<2.3)&(feature_col[\"MinTemp\"]>-2.3)]\n",
        "feature_col = feature_col[(feature_col[\"MaxTemp\"]<2.3)&(feature_col[\"MaxTemp\"]>-2)]\n",
        "feature_col = feature_col[(feature_col[\"Rainfall\"]<4.5)]\n",
        "feature_col = feature_col[(feature_col[\"Evaporation\"]<2.8)]\n",
        "feature_col = feature_col[(feature_col[\"Sunshine\"]<2.1)]\n",
        "feature_col = feature_col[(feature_col[\"WindGustSpeed\"]<4)&(feature_col[\"WindGustSpeed\"]>-4)]\n",
        "feature_col = feature_col[(feature_col[\"WindSpeed9am\"]<4)]\n",
        "feature_col = feature_col[(feature_col[\"WindSpeed3pm\"]<2.5)]\n",
        "feature_col = feature_col[(feature_col[\"Humidity9am\"]>-3)]\n",
        "feature_col = feature_col[(feature_col[\"Humidity3pm\"]>-2.2)]\n",
        "feature_col = feature_col[(feature_col[\"Pressure9am\"]< 2)&(feature_col[\"Pressure9am\"]>-2.7)]\n",
        "feature_col = feature_col[(feature_col[\"Pressure3pm\"]< 2)&(feature_col[\"Pressure3pm\"]>-2.7)]\n",
        "feature_col = feature_col[(feature_col[\"Cloud9am\"]<1.8)]\n",
        "feature_col = feature_col[(feature_col[\"Cloud3pm\"]<2)]\n",
        "feature_col = feature_col[(feature_col[\"Temp9am\"]<2.3)&(feature_col[\"Temp9am\"]>-2)]\n",
        "feature_col = feature_col[(feature_col[\"Temp3pm\"]<2.3)&(feature_col[\"Temp3pm\"]>-2)]\n",
        "\n",
        "\n",
        "feature_col.shape\n"
      ],
      "metadata": {
        "id": "RFYNDgz8Yo9x",
        "colab": {
          "base_uri": "https://localhost:8080/"
        },
        "outputId": "bc045477-c2ea-4254-8e0e-65d1a7fa87f7"
      },
      "execution_count": 53,
      "outputs": [
        {
          "output_type": "execute_result",
          "data": {
            "text/plain": [
              "(65136, 27)"
            ]
          },
          "metadata": {},
          "execution_count": 53
        }
      ]
    },
    {
      "cell_type": "code",
      "source": [
        "#looking at the scaled features without outliers\n",
        "\n",
        "plt.figure(figsize=(20,10))\n",
        "sns.boxenplot(data = feature_col,palette = colours)\n",
        "plt.xticks(rotation=90)\n",
        "plt.show()"
      ],
      "metadata": {
        "id": "azKL2c8zZCnR",
        "colab": {
          "base_uri": "https://localhost:8080/",
          "height": 661
        },
        "outputId": "fa4f0589-a5fb-44a2-bf56-57c305ce7cb8"
      },
      "execution_count": 54,
      "outputs": [
        {
          "output_type": "display_data",
          "data": {
            "text/plain": [
              "<Figure size 1440x720 with 1 Axes>"
            ],
            "image/png": "[encoded data removed]"
          },
          "metadata": {
            "needs_background": "light"
          }
        }
      ]
    },
    {
      "cell_type": "markdown",
      "source": [
        "# **Model Building**\n",
        "---\n",
        "\n",
        "**Artificial Neural Network**\n",
        "\n",
        "\n",
        "> Following steps are involved in the model building\n",
        "\n",
        "> *   Assining X and y the status of attributes and tags\n",
        "*   Splitting test and training sets\n",
        "*   Initialising the neural network\n",
        "*   Defining by adding layers\n",
        "*   Compiling the neural network\n",
        "*   Train the neural network\n",
        "\n",
        "\n",
        "\n",
        "\n",
        "\n",
        "\n",
        "\n",
        "\n",
        "\n",
        "\n",
        "\n",
        "\n",
        "\n"
      ],
      "metadata": {
        "id": "hGP18dXmZRK1"
      }
    },
    {
      "cell_type": "code",
      "source": [
        "X = feature_col.drop([\"RainTomorrow\"], axis=1)\n",
        "y = feature_col[\"RainTomorrow\"]\n",
        "\n",
        "# Splitting test and training sets\n",
        "X_train, X_test, y_train, y_test = train_test_split(X, y, test_size = 0.2, random_state = 42)\n",
        "\n",
        "X.shape"
      ],
      "metadata": {
        "id": "M-tAyGCpZVS_",
        "colab": {
          "base_uri": "https://localhost:8080/"
        },
        "outputId": "9d333767-2c3e-4874-a403-ab60054ef211"
      },
      "execution_count": 55,
      "outputs": [
        {
          "output_type": "execute_result",
          "data": {
            "text/plain": [
              "(65136, 26)"
            ]
          },
          "metadata": {},
          "execution_count": 55
        }
      ]
    },
    {
      "cell_type": "code",
      "source": [
        "#Early stopping\n",
        "early_stopping = callbacks.EarlyStopping(\n",
        "    min_delta=0.001, # minimium amount of change to count as an improvement\n",
        "    patience=20, # how many epochs to wait before stopping\n",
        "    restore_best_weights=True,\n",
        ")"
      ],
      "metadata": {
        "id": "n8sXy-GoaEDN"
      },
      "execution_count": 56,
      "outputs": []
    },
    {
      "cell_type": "code",
      "source": [
        "# Initialising the NN\n",
        "model = Sequential()"
      ],
      "metadata": {
        "id": "fNH2UZwoaHD6"
      },
      "execution_count": 57,
      "outputs": []
    },
    {
      "cell_type": "code",
      "source": [
        "# layers\n",
        "\n",
        "model.add(Dense(units = 32, kernel_initializer = 'uniform', activation = 'relu', input_dim = 26))\n",
        "model.add(Dense(units = 32, kernel_initializer = 'uniform', activation = 'relu'))\n",
        "model.add(Dense(units = 16, kernel_initializer = 'uniform', activation = 'relu'))\n",
        "model.add(Dropout(0.25))\n",
        "model.add(Dense(units = 8, kernel_initializer = 'uniform', activation = 'relu'))\n",
        "model.add(Dropout(0.5))\n",
        "model.add(Dense(units = 1, kernel_initializer = 'uniform', activation = 'sigmoid'))"
      ],
      "metadata": {
        "id": "_vZQQ9dKaJRT"
      },
      "execution_count": 58,
      "outputs": []
    },
    {
      "cell_type": "code",
      "source": [
        "# Compiling the ANN\n",
        "opt = Adam(learning_rate=0.00009)\n",
        "model.compile(optimizer = opt, loss = 'binary_crossentropy', metrics = ['accuracy'])"
      ],
      "metadata": {
        "id": "HI-JnsoxaMjL"
      },
      "execution_count": 59,
      "outputs": []
    },
    {
      "cell_type": "code",
      "source": [
        "# Train the ANN\n",
        "history = model.fit(X_train, y_train, batch_size = 32, epochs = 5, callbacks=[early_stopping], validation_split=0.2)"
      ],
      "metadata": {
        "id": "93LIBLIGaO8T",
        "colab": {
          "base_uri": "https://localhost:8080/"
        },
        "outputId": "fd5fd55d-b9f2-428f-f8d3-9773829af363"
      },
      "execution_count": 60,
      "outputs": [
        {
          "output_type": "stream",
          "name": "stdout",
          "text": [
            "Epoch 1/5\n",
            "1303/1303 [==============================] - 4s 3ms/step - loss: 0.5211 - accuracy: 0.7891 - val_loss: 0.3962 - val_accuracy: 0.7902\n",
            "Epoch 2/5\n",
            "1303/1303 [==============================] - 5s 4ms/step - loss: 0.4201 - accuracy: 0.7986 - val_loss: 0.3869 - val_accuracy: 0.7916\n",
            "Epoch 3/5\n",
            "1303/1303 [==============================] - 5s 4ms/step - loss: 0.4148 - accuracy: 0.8138 - val_loss: 0.3819 - val_accuracy: 0.8438\n",
            "Epoch 4/5\n",
            "1303/1303 [==============================] - 5s 4ms/step - loss: 0.4095 - accuracy: 0.8149 - val_loss: 0.3780 - val_accuracy: 0.8440\n",
            "Epoch 5/5\n",
            "1303/1303 [==============================] - 7s 5ms/step - loss: 0.4041 - accuracy: 0.8165 - val_loss: 0.3745 - val_accuracy: 0.8451\n"
          ]
        }
      ]
    },
    {
      "cell_type": "code",
      "source": [
        "history_df = pd.DataFrame(history.history)\n",
        "\n",
        "plt.plot(history_df.loc[:, ['loss']], \"#BDE2E2\", label='Training loss')\n",
        "plt.plot(history_df.loc[:, ['val_loss']],\"#C2C4E2\", label='Validation loss')\n",
        "plt.title('Training and Validation loss')\n",
        "plt.xlabel('Epochs')\n",
        "plt.ylabel('Loss')\n",
        "plt.legend(loc=\"best\")\n",
        "\n",
        "plt.show()"
      ],
      "metadata": {
        "id": "7KceJQV0aStI",
        "colab": {
          "base_uri": "https://localhost:8080/",
          "height": 295
        },
        "outputId": "d1540633-9910-4734-ab65-5dff9293548c"
      },
      "execution_count": 61,
      "outputs": [
        {
          "output_type": "display_data",
          "data": {
            "text/plain": [
              "<Figure size 432x288 with 1 Axes>"
            ],
            "image/png": "[encoded data removed]"
          },
          "metadata": {
            "needs_background": "light"
          }
        }
      ]
    },
    {
      "cell_type": "code",
      "source": [
        "history_df = pd.DataFrame(history.history)\n",
        "\n",
        "plt.plot(history_df.loc[:, ['accuracy']], \"#edda05\", label='Training accuracy')\n",
        "plt.plot(history_df.loc[:, ['val_accuracy']], \"#c23202\", label='Validation accuracy')\n",
        "\n",
        "plt.title('Training and Validation accuracy')\n",
        "plt.xlabel('Epochs')\n",
        "plt.ylabel('Accuracy')\n",
        "plt.legend()\n",
        "plt.show()"
      ],
      "metadata": {
        "id": "g1HagZq5b4IT",
        "colab": {
          "base_uri": "https://localhost:8080/",
          "height": 295
        },
        "outputId": "e52e0671-e024-42df-eb77-782bc467be14"
      },
      "execution_count": 62,
      "outputs": [
        {
          "output_type": "display_data",
          "data": {
            "text/plain": [
              "<Figure size 432x288 with 1 Axes>"
            ],
            "image/png": "[encoded data removed]"
          },
          "metadata": {
            "needs_background": "light"
          }
        }
      ]
    },
    {
      "cell_type": "code",
      "source": [
        "#Classification Report\n",
        "\n",
        "y_pred = model.predict(X_test)\n",
        "y_pred = (y_pred > 0.5)"
      ],
      "metadata": {
        "id": "lkSvQ1KCb9sc"
      },
      "execution_count": 63,
      "outputs": []
    },
    {
      "cell_type": "code",
      "source": [
        "# confusion matrix\n",
        "cmap1 = sns.diverging_palette(220, 20, as_cmap=True)\n",
        "plt.subplots(figsize=(12,8))\n",
        "cf_matrix = confusion_matrix(y_test, y_pred)\n",
        "sns.heatmap(cf_matrix/np.sum(cf_matrix), cmap = cmap1, annot = True, annot_kws = {'size':15})"
      ],
      "metadata": {
        "id": "xu1VZBqDcHD2",
        "colab": {
          "base_uri": "https://localhost:8080/",
          "height": 500
        },
        "outputId": "aaba12f6-6302-48c9-f540-311647e7a432"
      },
      "execution_count": 64,
      "outputs": [
        {
          "output_type": "execute_result",
          "data": {
            "text/plain": [
              "<matplotlib.axes._subplots.AxesSubplot at 0x7fb7fcfeefd0>"
            ]
          },
          "metadata": {},
          "execution_count": 64
        },
        {
          "output_type": "display_data",
          "data": {
            "text/plain": [
              "<Figure size 864x576 with 2 Axes>"
            ],
            "image/png": "[encoded data removed]"
          },
          "metadata": {
            "needs_background": "light"
          }
        }
      ]
    },
    {
      "cell_type": "code",
      "source": [
        "print(classification_report(y_test, y_pred))"
      ],
      "metadata": {
        "id": "o5Ig1AkFcK4C",
        "colab": {
          "base_uri": "https://localhost:8080/"
        },
        "outputId": "88a4fa0f-b6be-4ee7-aadb-93ff122d8735"
      },
      "execution_count": 65,
      "outputs": [
        {
          "output_type": "stream",
          "name": "stdout",
          "text": [
            "              precision    recall  f1-score   support\n",
            "\n",
            "           0       0.86      0.95      0.90     10235\n",
            "           1       0.70      0.46      0.55      2793\n",
            "\n",
            "    accuracy                           0.84     13028\n",
            "   macro avg       0.78      0.70      0.73     13028\n",
            "weighted avg       0.83      0.84      0.83     13028\n",
            "\n"
          ]
        }
      ]
    },
    {
      "cell_type": "markdown",
      "source": [
        "**Logistic Regression**\n",
        "\n",
        "\n",
        "> *   Replacing NaN values with mean\n",
        "*   Converting float to int\n",
        "*   Splitting data for training and testing\n",
        "*  Performing Logistic Regression\n",
        "*   Confusion matrix & classification report\n",
        "\n",
        "\n",
        "\n",
        "\n",
        "\n",
        "\n",
        "\n",
        "\n"
      ],
      "metadata": {
        "id": "6Awg2CZhkb4d"
      }
    },
    {
      "cell_type": "code",
      "source": [
        "# And we need to replace NaN values with mean values of each column:\n",
        "wthr.fillna(wthr.mean(), inplace=True)\n",
        "wthr.head(5)"
      ],
      "metadata": {
        "id": "mN38rZ1_knny",
        "colab": {
          "base_uri": "https://localhost:8080/",
          "height": 421
        },
        "outputId": "83896e9b-3dc4-42a0-8931-e23be1d12dd0"
      },
      "execution_count": 66,
      "outputs": [
        {
          "output_type": "stream",
          "name": "stderr",
          "text": [
            "/usr/local/lib/python3.7/dist-packages/ipykernel_launcher.py:2: FutureWarning: DataFrame.mean and DataFrame.median with numeric_only=None will include datetime64 and datetime64tz columns in a future version.\n",
            "  \n"
          ]
        },
        {
          "output_type": "execute_result",
          "data": {
            "text/plain": [
              "        Date  Location  MinTemp  MaxTemp  Rainfall  Evaporation  Sunshine  \\\n",
              "0 2008-12-01         0     13.4     22.9       0.6          4.4       8.1   \n",
              "1 2008-12-02         0      7.4     25.1       0.0          4.4       8.1   \n",
              "2 2008-12-03         0     12.9     25.7       0.0          4.4       8.1   \n",
              "3 2008-12-04         0      9.2     28.0       0.0          4.4       8.1   \n",
              "4 2008-12-05         0     17.5     32.3       1.0          4.4       8.1   \n",
              "\n",
              "   WindGustDir  WindGustSpeed  WindDir9am  ...  Temp3pm  RainToday  \\\n",
              "0           13           44.0          13  ...     21.8          0   \n",
              "1           14           44.0           6  ...     24.3          0   \n",
              "2           15           46.0          13  ...     23.2          0   \n",
              "3            4           24.0           9  ...     26.5          0   \n",
              "4           13           41.0           1  ...     29.7          0   \n",
              "\n",
              "   RainTomorrow  year  month     month_sin  month_cos  day   day_sin   day_cos  \n",
              "0             0  2008     12 -2.449294e-16        1.0    1  0.201299  0.979530  \n",
              "1             0  2008     12 -2.449294e-16        1.0    2  0.394356  0.918958  \n",
              "2             0  2008     12 -2.449294e-16        1.0    3  0.571268  0.820763  \n",
              "3             0  2008     12 -2.449294e-16        1.0    4  0.724793  0.688967  \n",
              "4             0  2008     12 -2.449294e-16        1.0    5  0.848644  0.528964  \n",
              "\n",
              "[5 rows x 30 columns]"
            ],
            "text/html": [
              "\n",
              "  <div id=\"df-4e7c4040-0914-43b6-8385-b84e4fda0324\">\n",
              "    <div class=\"colab-df-container\">\n",
              "      <div>\n",
              "<style scoped>\n",
              "    .dataframe tbody tr th:only-of-type {\n",
              "        vertical-align: middle;\n",
              "    }\n",
              "\n",
              "    .dataframe tbody tr th {\n",
              "        vertical-align: top;\n",
              "    }\n",
              "\n",
              "    .dataframe thead th {\n",
              "        text-align: right;\n",
              "    }\n",
              "</style>\n",
              "<table border=\"1\" class=\"dataframe\">\n",
              "  <thead>\n",
              "    <tr style=\"text-align: right;\">\n",
              "      <th></th>\n",
              "      <th>Date</th>\n",
              "      <th>Location</th>\n",
              "      <th>MinTemp</th>\n",
              "      <th>MaxTemp</th>\n",
              "      <th>Rainfall</th>\n",
              "      <th>Evaporation</th>\n",
              "      <th>Sunshine</th>\n",
              "      <th>WindGustDir</th>\n",
              "      <th>WindGustSpeed</th>\n",
              "      <th>WindDir9am</th>\n",
              "      <th>...</th>\n",
              "      <th>Temp3pm</th>\n",
              "      <th>RainToday</th>\n",
              "      <th>RainTomorrow</th>\n",
              "      <th>year</th>\n",
              "      <th>month</th>\n",
              "      <th>month_sin</th>\n",
              "      <th>month_cos</th>\n",
              "      <th>day</th>\n",
              "      <th>day_sin</th>\n",
              "      <th>day_cos</th>\n",
              "    </tr>\n",
              "  </thead>\n",
              "  <tbody>\n",
              "    <tr>\n",
              "      <th>0</th>\n",
              "      <td>2008-12-01</td>\n",
              "      <td>0</td>\n",
              "      <td>13.4</td>\n",
              "      <td>22.9</td>\n",
              "      <td>0.6</td>\n",
              "      <td>4.4</td>\n",
              "      <td>8.1</td>\n",
              "      <td>13</td>\n",
              "      <td>44.0</td>\n",
              "      <td>13</td>\n",
              "      <td>...</td>\n",
              "      <td>21.8</td>\n",
              "      <td>0</td>\n",
              "      <td>0</td>\n",
              "      <td>2008</td>\n",
              "      <td>12</td>\n",
              "      <td>-2.449294e-16</td>\n",
              "      <td>1.0</td>\n",
              "      <td>1</td>\n",
              "      <td>0.201299</td>\n",
              "      <td>0.979530</td>\n",
              "    </tr>\n",
              "    <tr>\n",
              "      <th>1</th>\n",
              "      <td>2008-12-02</td>\n",
              "      <td>0</td>\n",
              "      <td>7.4</td>\n",
              "      <td>25.1</td>\n",
              "      <td>0.0</td>\n",
              "      <td>4.4</td>\n",
              "      <td>8.1</td>\n",
              "      <td>14</td>\n",
              "      <td>44.0</td>\n",
              "      <td>6</td>\n",
              "      <td>...</td>\n",
              "      <td>24.3</td>\n",
              "      <td>0</td>\n",
              "      <td>0</td>\n",
              "      <td>2008</td>\n",
              "      <td>12</td>\n",
              "      <td>-2.449294e-16</td>\n",
              "      <td>1.0</td>\n",
              "      <td>2</td>\n",
              "      <td>0.394356</td>\n",
              "      <td>0.918958</td>\n",
              "    </tr>\n",
              "    <tr>\n",
              "      <th>2</th>\n",
              "      <td>2008-12-03</td>\n",
              "      <td>0</td>\n",
              "      <td>12.9</td>\n",
              "      <td>25.7</td>\n",
              "      <td>0.0</td>\n",
              "      <td>4.4</td>\n",
              "      <td>8.1</td>\n",
              "      <td>15</td>\n",
              "      <td>46.0</td>\n",
              "      <td>13</td>\n",
              "      <td>...</td>\n",
              "      <td>23.2</td>\n",
              "      <td>0</td>\n",
              "      <td>0</td>\n",
              "      <td>2008</td>\n",
              "      <td>12</td>\n",
              "      <td>-2.449294e-16</td>\n",
              "      <td>1.0</td>\n",
              "      <td>3</td>\n",
              "      <td>0.571268</td>\n",
              "      <td>0.820763</td>\n",
              "    </tr>\n",
              "    <tr>\n",
              "      <th>3</th>\n",
              "      <td>2008-12-04</td>\n",
              "      <td>0</td>\n",
              "      <td>9.2</td>\n",
              "      <td>28.0</td>\n",
              "      <td>0.0</td>\n",
              "      <td>4.4</td>\n",
              "      <td>8.1</td>\n",
              "      <td>4</td>\n",
              "      <td>24.0</td>\n",
              "      <td>9</td>\n",
              "      <td>...</td>\n",
              "      <td>26.5</td>\n",
              "      <td>0</td>\n",
              "      <td>0</td>\n",
              "      <td>2008</td>\n",
              "      <td>12</td>\n",
              "      <td>-2.449294e-16</td>\n",
              "      <td>1.0</td>\n",
              "      <td>4</td>\n",
              "      <td>0.724793</td>\n",
              "      <td>0.688967</td>\n",
              "    </tr>\n",
              "    <tr>\n",
              "      <th>4</th>\n",
              "      <td>2008-12-05</td>\n",
              "      <td>0</td>\n",
              "      <td>17.5</td>\n",
              "      <td>32.3</td>\n",
              "      <td>1.0</td>\n",
              "      <td>4.4</td>\n",
              "      <td>8.1</td>\n",
              "      <td>13</td>\n",
              "      <td>41.0</td>\n",
              "      <td>1</td>\n",
              "      <td>...</td>\n",
              "      <td>29.7</td>\n",
              "      <td>0</td>\n",
              "      <td>0</td>\n",
              "      <td>2008</td>\n",
              "      <td>12</td>\n",
              "      <td>-2.449294e-16</td>\n",
              "      <td>1.0</td>\n",
              "      <td>5</td>\n",
              "      <td>0.848644</td>\n",
              "      <td>0.528964</td>\n",
              "    </tr>\n",
              "  </tbody>\n",
              "</table>\n",
              "<p>5 rows × 30 columns</p>\n",
              "</div>\n",
              "      <button class=\"colab-df-convert\" onclick=\"convertToInteractive('df-4e7c4040-0914-43b6-8385-b84e4fda0324')\"\n",
              "              title=\"Convert this dataframe to an interactive table.\"\n",
              "              style=\"display:none;\">\n",
              "        \n",
              "  <svg xmlns=\"http://www.w3.org/2000/svg\" height=\"24px\"viewBox=\"0 0 24 24\"\n",
              "       width=\"24px\">\n",
              "    <path d=\"M0 0h24v24H0V0z\" fill=\"none\"/>\n",
              "    <path d=\"M18.56 5.44l.94 2.06.94-2.06 2.06-.94-2.06-.94-.94-2.06-.94 2.06-2.06.94zm-11 1L8.5 8.5l.94-2.06 2.06-.94-2.06-.94L8.5 2.5l-.94 2.06-2.06.94zm10 10l.94 2.06.94-2.06 2.06-.94-2.06-.94-.94-2.06-.94 2.06-2.06.94z\"/><path d=\"M17.41 7.96l-1.37-1.37c-.4-.4-.92-.59-1.43-.59-.52 0-1.04.2-1.43.59L10.3 9.45l-7.72 7.72c-.78.78-.78 2.05 0 2.83L4 21.41c.39.39.9.59 1.41.59.51 0 1.02-.2 1.41-.59l7.78-7.78 2.81-2.81c.8-.78.8-2.07 0-2.86zM5.41 20L4 18.59l7.72-7.72 1.47 1.35L5.41 20z\"/>\n",
              "  </svg>\n",
              "      </button>\n",
              "      \n",
              "  <style>\n",
              "    .colab-df-container {\n",
              "      display:flex;\n",
              "      flex-wrap:wrap;\n",
              "      gap: 12px;\n",
              "    }\n",
              "\n",
              "    .colab-df-convert {\n",
              "      background-color: #E8F0FE;\n",
              "      border: none;\n",
              "      border-radius: 50%;\n",
              "      cursor: pointer;\n",
              "      display: none;\n",
              "      fill: #1967D2;\n",
              "      height: 32px;\n",
              "      padding: 0 0 0 0;\n",
              "      width: 32px;\n",
              "    }\n",
              "\n",
              "    .colab-df-convert:hover {\n",
              "      background-color: #E2EBFA;\n",
              "      box-shadow: 0px 1px 2px rgba(60, 64, 67, 0.3), 0px 1px 3px 1px rgba(60, 64, 67, 0.15);\n",
              "      fill: #174EA6;\n",
              "    }\n",
              "\n",
              "    [theme=dark] .colab-df-convert {\n",
              "      background-color: #3B4455;\n",
              "      fill: #D2E3FC;\n",
              "    }\n",
              "\n",
              "    [theme=dark] .colab-df-convert:hover {\n",
              "      background-color: #434B5C;\n",
              "      box-shadow: 0px 1px 3px 1px rgba(0, 0, 0, 0.15);\n",
              "      filter: drop-shadow(0px 1px 2px rgba(0, 0, 0, 0.3));\n",
              "      fill: #FFFFFF;\n",
              "    }\n",
              "  </style>\n",
              "\n",
              "      <script>\n",
              "        const buttonEl =\n",
              "          document.querySelector('#df-4e7c4040-0914-43b6-8385-b84e4fda0324 button.colab-df-convert');\n",
              "        buttonEl.style.display =\n",
              "          google.colab.kernel.accessAllowed ? 'block' : 'none';\n",
              "\n",
              "        async function convertToInteractive(key) {\n",
              "          const element = document.querySelector('#df-4e7c4040-0914-43b6-8385-b84e4fda0324');\n",
              "          const dataTable =\n",
              "            await google.colab.kernel.invokeFunction('convertToInteractive',\n",
              "                                                     [key], {});\n",
              "          if (!dataTable) return;\n",
              "\n",
              "          const docLinkHtml = 'Like what you see? Visit the ' +\n",
              "            '<a target=\"_blank\" href=https://colab.research.google.com/notebooks/data_table.ipynb>data table notebook</a>'\n",
              "            + ' to learn more about interactive tables.';\n",
              "          element.innerHTML = '';\n",
              "          dataTable['output_type'] = 'display_data';\n",
              "          await google.colab.output.renderOutput(dataTable, element);\n",
              "          const docLink = document.createElement('div');\n",
              "          docLink.innerHTML = docLinkHtml;\n",
              "          element.appendChild(docLink);\n",
              "        }\n",
              "      </script>\n",
              "    </div>\n",
              "  </div>\n",
              "  "
            ]
          },
          "metadata": {},
          "execution_count": 66
        }
      ]
    },
    {
      "cell_type": "code",
      "source": [
        "wthr['Evaporation'] = wthr['Evaporation'].astype(int)\n",
        "wthr['WindDir9am'] = wthr['WindDir9am'].astype(int)\n",
        "wthr['WindDir3pm'] = wthr['WindDir3pm'].astype(int)\n",
        "wthr['Humidity9am'] = wthr['Humidity9am'].astype(int)\n",
        "wthr['Pressure9am'] = wthr['Pressure9am'].astype(int)\n",
        "wthr['WindGustSpeed'] = wthr['WindGustSpeed'].astype(int)\n",
        "wthr.dtypes"
      ],
      "metadata": {
        "id": "tc7MCXUAPOhM",
        "colab": {
          "base_uri": "https://localhost:8080/"
        },
        "outputId": "e2904822-2474-445a-c208-be87814225c3"
      },
      "execution_count": 69,
      "outputs": [
        {
          "output_type": "execute_result",
          "data": {
            "text/plain": [
              "Date             datetime64[ns]\n",
              "Location                  int64\n",
              "MinTemp                 float64\n",
              "MaxTemp                 float64\n",
              "Rainfall                float64\n",
              "Evaporation               int64\n",
              "Sunshine                float64\n",
              "WindGustDir               int64\n",
              "WindGustSpeed             int64\n",
              "WindDir9am                int64\n",
              "WindDir3pm                int64\n",
              "WindSpeed9am            float64\n",
              "WindSpeed3pm            float64\n",
              "Humidity9am               int64\n",
              "Humidity3pm             float64\n",
              "Pressure9am               int64\n",
              "Pressure3pm             float64\n",
              "Cloud9am                float64\n",
              "Cloud3pm                float64\n",
              "Temp9am                 float64\n",
              "Temp3pm                 float64\n",
              "RainToday                 int64\n",
              "RainTomorrow              int64\n",
              "year                      int64\n",
              "month                     int64\n",
              "month_sin               float64\n",
              "month_cos               float64\n",
              "day                       int64\n",
              "day_sin                 float64\n",
              "day_cos                 float64\n",
              "dtype: object"
            ]
          },
          "metadata": {},
          "execution_count": 69
        }
      ]
    },
    {
      "cell_type": "code",
      "source": [
        "feature_cols = ['WindGustSpeed','WindDir9am','WindDir3pm','Pressure9am','Humidity3pm', 'Humidity9am','Evaporation']\n",
        "X = wthr[feature_cols] # Features\n",
        "y = wthr.RainTomorrow # Target variable"
      ],
      "metadata": {
        "id": "7SvrxEscMr0L"
      },
      "execution_count": 70,
      "outputs": []
    },
    {
      "cell_type": "code",
      "source": [
        "#Splitting data for training and testing\n",
        "\n",
        "X_train, X_test, y_train, y_test = train_test_split(X, y, test_size=0.2, random_state=0)\n",
        "logmodel = LogisticRegression()\n",
        "logmodel.fit(X_train,y_train)"
      ],
      "metadata": {
        "id": "_Ies34SyRFLQ",
        "colab": {
          "base_uri": "https://localhost:8080/"
        },
        "outputId": "b13af48e-d9e3-4a34-ce90-0fc8f92b3a23"
      },
      "execution_count": 71,
      "outputs": [
        {
          "output_type": "execute_result",
          "data": {
            "text/plain": [
              "LogisticRegression()"
            ]
          },
          "metadata": {},
          "execution_count": 71
        }
      ]
    },
    {
      "cell_type": "code",
      "source": [
        "y_pred=logmodel.predict(X_test)"
      ],
      "metadata": {
        "id": "6GkJMa55SAaM"
      },
      "execution_count": 72,
      "outputs": []
    },
    {
      "cell_type": "code",
      "source": [
        "cnf_matrix = metrics.confusion_matrix(y_test, y_pred)\n",
        "cnf_matrix"
      ],
      "metadata": {
        "id": "Njhw-Im4SD8_",
        "colab": {
          "base_uri": "https://localhost:8080/"
        },
        "outputId": "a581c0da-8646-4e29-d86a-153e2e9e5ab4"
      },
      "execution_count": 73,
      "outputs": [
        {
          "output_type": "execute_result",
          "data": {
            "text/plain": [
              "array([[11375,   580],\n",
              "       [ 2023,  1245]])"
            ]
          },
          "metadata": {},
          "execution_count": 73
        }
      ]
    },
    {
      "cell_type": "code",
      "source": [
        "print(classification_report(y_test,y_pred))"
      ],
      "metadata": {
        "id": "ItR6_jDhSRoq",
        "colab": {
          "base_uri": "https://localhost:8080/"
        },
        "outputId": "b3037bc4-ab3e-4c09-87db-89c328e7b197"
      },
      "execution_count": 74,
      "outputs": [
        {
          "output_type": "stream",
          "name": "stdout",
          "text": [
            "              precision    recall  f1-score   support\n",
            "\n",
            "           0       0.85      0.95      0.90     11955\n",
            "           1       0.68      0.38      0.49      3268\n",
            "\n",
            "    accuracy                           0.83     15223\n",
            "   macro avg       0.77      0.67      0.69     15223\n",
            "weighted avg       0.81      0.83      0.81     15223\n",
            "\n"
          ]
        }
      ]
    }
  ]
}